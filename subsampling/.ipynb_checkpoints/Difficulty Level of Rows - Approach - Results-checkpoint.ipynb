{
 "cells": [
  {
   "cell_type": "markdown",
   "metadata": {},
   "source": [
    "### Aim \n",
    "What I tried was with the intuition that if we provide a difficulty level to each of the row and allot the fitness function according to this difficulty then we can make ensemble of models which tries to solve different chunks of the dataset.\n",
    "\n",
    "-------------------------------\n",
    "\n",
    "#### Difficulty Marks\n",
    " - The difficulty would define that how many models were able to predict the exact value for that row. If the model is difficult then more marks will be awarded to the model on solving it.\n",
    " \n",
    " - We tried\n",
    " \n",
    " -- Discrete level of marking (ex: 0-10)\n",
    " \n",
    " -- -ve of Marks as per how many models have solved it. So higher magnitude on the -ve side would indicate many models have already solved it and now this model should focus on other rows.\n",
    " \n",
    " -- 1/(number of pop that has solved it)\n",
    " \n",
    " -- Again incremental marks but with upper and lower margin.\n",
    "\n",
    "-------------------------------------\n",
    "\n",
    "#### When to update the marks\n",
    " \n",
    " - We updated the score after each fitness calculation for each model, so that the models below in the population can focus on the harder problems. \n",
    " \n",
    " - Updated the score after each population iteration, so that in the next iteration the models can focus on harder rows of the dataset.\n",
    " \n",
    "-------------------------------------\n",
    "\n",
    "#### Results\n",
    " \n",
    " - But the results were not inline with our expectations. the difficulty seemed to be changing from one end to the other. It keeps on fluctuating during the iterations.\n",
    " \n",
    " - Also the accuracy kept on fluctuating. If we run it for multiple iterations, it wins sometimes but loses to the basic models most of the time.\n"
   ]
  }
 ],
 "metadata": {
  "kernelspec": {
   "display_name": "Python 2",
   "language": "python",
   "name": "python2"
  },
  "language_info": {
   "codemirror_mode": {
    "name": "ipython",
    "version": 2
   },
   "file_extension": ".py",
   "mimetype": "text/x-python",
   "name": "python",
   "nbconvert_exporter": "python",
   "pygments_lexer": "ipython2",
   "version": "2.7.9"
  }
 },
 "nbformat": 4,
 "nbformat_minor": 0
}
